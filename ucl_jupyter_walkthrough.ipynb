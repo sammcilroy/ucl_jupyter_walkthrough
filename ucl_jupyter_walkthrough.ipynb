{
 "cells": [
  {
   "cell_type": "markdown",
   "id": "respiratory-minimum",
   "metadata": {},
   "source": [
    "# UCL Python Data Working Group February 2021\n",
    "## Basic Jupyter Notebook Use Walkthrough\n",
    "## 1. Introduction to Jupyter"
   ]
  },
  {
   "cell_type": "markdown",
   "id": "requested-curtis",
   "metadata": {},
   "source": [
    "### UCL Computer Science Postgraduate Admissions Example Walkthrough\n",
    "\n",
    "<img align=\"right\" width=\"200\" height=\"200\" src=\"https://sammcilroy.github.io/images/cop.jpg?raw=true#right\">\n",
    "\n",
    "Jupyter is an development environment for working interactively with Python (and other languages) and is used heavily in data analysis work. It allows you to combine working Python code with text, images and visualisations making it ideal for exploratory data analysis and report writing/sharing. The combination of code and readable text also make Jupyter a useful tool for documentation of processes. We will use synthesized UCL admissions data to walk through the basic functionality of notebooks including data imports, cleaning and manipulaton, basic analysis and visualisation.\n",
    "\n",
    "Code is run in individual 'cells' like this one. You can insert and rearrange cells in any order, run them individually or all at once. \n",
    "\n",
    "Double click on this cell to inspect it. You can see markdown/HTML text being used to create the titles, text and images in this cell. For more info on markdown a useful resource is https://www.markdowntutorial.com\n",
    "    \n",
    "\n"
   ]
  },
  {
   "cell_type": "markdown",
   "id": "incorporate-killing",
   "metadata": {},
   "source": [
    "## 2. Setup, Python Libraries\n",
    "\n",
    "The first code cell in most Jupyter files will be expected to be your imported libraries or any other general setup for your work."
   ]
  },
  {
   "cell_type": "code",
   "execution_count": 123,
   "id": "latest-lambda",
   "metadata": {},
   "outputs": [],
   "source": [
    "from ipywidgets import interact, interactive, fixed, interact_manual\n",
    "from IPython.core.display import display, HTML\n",
    "\n",
    "import numpy as np\n",
    "import pandas as pd\n",
    "import matplotlib.pyplot as plt\n",
    "import plotly.express as px\n",
    "import folium\n",
    "import plotly.graph_objects as go\n",
    "import seaborn as sns\n",
    "import ipywidgets as widgets"
   ]
  },
  {
   "cell_type": "markdown",
   "id": "antique-packing",
   "metadata": {},
   "source": [
    "## 3 Working with Data, The Pandas Library\n",
    "\n",
    "The Pandas python library is one of the most common tools for working with dataset in python. It allows for importing of data from various text formats, from databases/SQL queries and from APIs. Data can be manipulated, cleaned and analysed replicating the function of SQL or any typical spreadsheet software which you may be using in your own non-python processes."
   ]
  },
  {
   "cell_type": "markdown",
   "id": "facial-samuel",
   "metadata": {},
   "source": [
    "## 3.1 Importing Data\n",
    "\n",
    "We'll use the Pandas library to import data from CSVs containing synthesized UCL Portico (Student Records) Data on Admissions and Offers Made to UCL Postgraduate Computer Science courses."
   ]
  },
  {
   "cell_type": "code",
   "execution_count": 124,
   "id": "indian-istanbul",
   "metadata": {},
   "outputs": [],
   "source": [
    "'''\n",
    "Stadard Python comments are also useful when \n",
    "a markdown cell would be overkill/cumbersome\n",
    "'''\n",
    "# Importing the data...\n",
    "\n",
    "admissions = pd.read_csv('ucl_cs_pg_admissions_synthesized.csv')\n",
    "course_codes = pd.read_csv('ucl_course_codes.csv')\n",
    "cod_codes = pd.read_csv('ucl_country_of_domicile_codes.csv')"
   ]
  },
  {
   "cell_type": "markdown",
   "id": "integral-narrative",
   "metadata": {},
   "source": [
    "## 3.2 Inspecting and Manipulating Data\n",
    "We can continue using Pandas to inspect our data and make any changes/cleaning necessary before moving on with any analysis..."
   ]
  },
  {
   "cell_type": "code",
   "execution_count": 125,
   "id": "prescription-member",
   "metadata": {},
   "outputs": [
    {
     "data": {
      "text/html": [
       "<div>\n",
       "<style scoped>\n",
       "    .dataframe tbody tr th:only-of-type {\n",
       "        vertical-align: middle;\n",
       "    }\n",
       "\n",
       "    .dataframe tbody tr th {\n",
       "        vertical-align: top;\n",
       "    }\n",
       "\n",
       "    .dataframe thead th {\n",
       "        text-align: right;\n",
       "    }\n",
       "</style>\n",
       "<table border=\"1\" class=\"dataframe\">\n",
       "  <thead>\n",
       "    <tr style=\"text-align: right;\">\n",
       "      <th></th>\n",
       "      <th>CAP_AYRC</th>\n",
       "      <th>CAP_CRSC</th>\n",
       "      <th>STU_GEND</th>\n",
       "      <th>STU_CODC</th>\n",
       "      <th>CAP_IDRC</th>\n",
       "    </tr>\n",
       "  </thead>\n",
       "  <tbody>\n",
       "    <tr>\n",
       "      <th>0</th>\n",
       "      <td>2019</td>\n",
       "      <td>TMSCOMSSML01</td>\n",
       "      <td>M</td>\n",
       "      <td>5826</td>\n",
       "      <td>CFUF</td>\n",
       "    </tr>\n",
       "    <tr>\n",
       "      <th>1</th>\n",
       "      <td>2019</td>\n",
       "      <td>TMSCOMSSSE01</td>\n",
       "      <td>F</td>\n",
       "      <td>672</td>\n",
       "      <td>C</td>\n",
       "    </tr>\n",
       "    <tr>\n",
       "      <th>2</th>\n",
       "      <td>2020</td>\n",
       "      <td>TMSCOMSCGV01</td>\n",
       "      <td>M</td>\n",
       "      <td>764</td>\n",
       "      <td>R</td>\n",
       "    </tr>\n",
       "    <tr>\n",
       "      <th>3</th>\n",
       "      <td>2019</td>\n",
       "      <td>TMSCOMSSSE01</td>\n",
       "      <td>M</td>\n",
       "      <td>631</td>\n",
       "      <td>R</td>\n",
       "    </tr>\n",
       "    <tr>\n",
       "      <th>4</th>\n",
       "      <td>2019</td>\n",
       "      <td>TMSCOMSING01</td>\n",
       "      <td>M</td>\n",
       "      <td>771</td>\n",
       "      <td>R</td>\n",
       "    </tr>\n",
       "  </tbody>\n",
       "</table>\n",
       "</div>"
      ],
      "text/plain": [
       "   CAP_AYRC      CAP_CRSC STU_GEND  STU_CODC CAP_IDRC\n",
       "0      2019  TMSCOMSSML01        M      5826     CFUF\n",
       "1      2019  TMSCOMSSSE01        F       672        C\n",
       "2      2020  TMSCOMSCGV01        M       764        R\n",
       "3      2019  TMSCOMSSSE01        M       631        R\n",
       "4      2019  TMSCOMSING01        M       771        R"
      ]
     },
     "execution_count": 125,
     "metadata": {},
     "output_type": "execute_result"
    }
   ],
   "source": [
    "# look at data, pandas head()\n",
    "admissions.head()"
   ]
  },
  {
   "cell_type": "code",
   "execution_count": 126,
   "id": "quality-mongolia",
   "metadata": {},
   "outputs": [
    {
     "data": {
      "text/html": [
       "<div>\n",
       "<style scoped>\n",
       "    .dataframe tbody tr th:only-of-type {\n",
       "        vertical-align: middle;\n",
       "    }\n",
       "\n",
       "    .dataframe tbody tr th {\n",
       "        vertical-align: top;\n",
       "    }\n",
       "\n",
       "    .dataframe thead th {\n",
       "        text-align: right;\n",
       "    }\n",
       "</style>\n",
       "<table border=\"1\" class=\"dataframe\">\n",
       "  <thead>\n",
       "    <tr style=\"text-align: right;\">\n",
       "      <th></th>\n",
       "      <th>CRS_CODE</th>\n",
       "      <th>CRS_NAME</th>\n",
       "    </tr>\n",
       "  </thead>\n",
       "  <tbody>\n",
       "    <tr>\n",
       "      <th>0</th>\n",
       "      <td>TAFEDISCLD01</td>\n",
       "      <td>Affil - Cat 2 Clinical Dentistry</td>\n",
       "    </tr>\n",
       "    <tr>\n",
       "      <th>1</th>\n",
       "      <td>TAFEDISORT01</td>\n",
       "      <td>Affil - Cat 1 Orthodontics</td>\n",
       "    </tr>\n",
       "    <tr>\n",
       "      <th>2</th>\n",
       "      <td>TAFEDISPDD01</td>\n",
       "      <td>Affil - Cat 1 Paediatric Dentistry</td>\n",
       "    </tr>\n",
       "    <tr>\n",
       "      <th>3</th>\n",
       "      <td>TAFEENSEEE01</td>\n",
       "      <td>Affil - Cat 1 Electronic &amp; Electrical Engineering</td>\n",
       "    </tr>\n",
       "    <tr>\n",
       "      <th>4</th>\n",
       "      <td>TAFEENSMMO01</td>\n",
       "      <td>Affil - Cat 1 Microwaves and Modern Optics</td>\n",
       "    </tr>\n",
       "  </tbody>\n",
       "</table>\n",
       "</div>"
      ],
      "text/plain": [
       "       CRS_CODE                                           CRS_NAME\n",
       "0  TAFEDISCLD01                   Affil - Cat 2 Clinical Dentistry\n",
       "1  TAFEDISORT01                         Affil - Cat 1 Orthodontics\n",
       "2  TAFEDISPDD01                 Affil - Cat 1 Paediatric Dentistry\n",
       "3  TAFEENSEEE01  Affil - Cat 1 Electronic & Electrical Engineering\n",
       "4  TAFEENSMMO01         Affil - Cat 1 Microwaves and Modern Optics"
      ]
     },
     "execution_count": 126,
     "metadata": {},
     "output_type": "execute_result"
    }
   ],
   "source": [
    "course_codes.head()"
   ]
  },
  {
   "cell_type": "code",
   "execution_count": 127,
   "id": "advisory-train",
   "metadata": {},
   "outputs": [
    {
     "data": {
      "text/html": [
       "<div>\n",
       "<style scoped>\n",
       "    .dataframe tbody tr th:only-of-type {\n",
       "        vertical-align: middle;\n",
       "    }\n",
       "\n",
       "    .dataframe tbody tr th {\n",
       "        vertical-align: top;\n",
       "    }\n",
       "\n",
       "    .dataframe thead th {\n",
       "        text-align: right;\n",
       "    }\n",
       "</style>\n",
       "<table border=\"1\" class=\"dataframe\">\n",
       "  <thead>\n",
       "    <tr style=\"text-align: right;\">\n",
       "      <th></th>\n",
       "      <th>COD_CODE</th>\n",
       "      <th>COD_NAME</th>\n",
       "    </tr>\n",
       "  </thead>\n",
       "  <tbody>\n",
       "    <tr>\n",
       "      <th>0</th>\n",
       "      <td>110</td>\n",
       "      <td>East Riding</td>\n",
       "    </tr>\n",
       "    <tr>\n",
       "      <th>1</th>\n",
       "      <td>111</td>\n",
       "      <td>North East Lincolnshire</td>\n",
       "    </tr>\n",
       "    <tr>\n",
       "      <th>2</th>\n",
       "      <td>112</td>\n",
       "      <td>North Lincolnshire</td>\n",
       "    </tr>\n",
       "    <tr>\n",
       "      <th>3</th>\n",
       "      <td>113</td>\n",
       "      <td>York</td>\n",
       "    </tr>\n",
       "    <tr>\n",
       "      <th>4</th>\n",
       "      <td>114</td>\n",
       "      <td>Bournemouth</td>\n",
       "    </tr>\n",
       "  </tbody>\n",
       "</table>\n",
       "</div>"
      ],
      "text/plain": [
       "  COD_CODE                 COD_NAME\n",
       "0      110              East Riding\n",
       "1      111  North East Lincolnshire\n",
       "2      112       North Lincolnshire\n",
       "3      113                     York\n",
       "4      114              Bournemouth"
      ]
     },
     "execution_count": 127,
     "metadata": {},
     "output_type": "execute_result"
    }
   ],
   "source": [
    "cod_codes.head()"
   ]
  },
  {
   "cell_type": "markdown",
   "id": "adjacent-barcelona",
   "metadata": {},
   "source": [
    "Inspecting the admissions data...."
   ]
  },
  {
   "cell_type": "code",
   "execution_count": 128,
   "id": "genetic-aircraft",
   "metadata": {},
   "outputs": [
    {
     "data": {
      "text/plain": [
       "(12751, 5)"
      ]
     },
     "execution_count": 128,
     "metadata": {},
     "output_type": "execute_result"
    }
   ],
   "source": [
    "# look at the shape of a dataset (rows, columns)\n",
    "admissions.shape"
   ]
  },
  {
   "cell_type": "markdown",
   "id": "smooth-affect",
   "metadata": {},
   "source": [
    "Seeing the shape of the imported data we can note we see we have 12751 applications made with 5 dimensions of data on these:\n",
    "\n",
    "* CAP_AYRC: The year of the application made\n",
    "* CAP_CRSC: The course (code) applied to\n",
    "* STU_GEND: The gender of the applicant\n",
    "* STU_CODC: The country of domicile (code) of the applicant\n",
    "* CAP_IDRC: The offer made to the applicant and their response"
   ]
  },
  {
   "cell_type": "code",
   "execution_count": 129,
   "id": "expanded-alloy",
   "metadata": {},
   "outputs": [
    {
     "data": {
      "text/plain": [
       "array([2019, 2020, 2018])"
      ]
     },
     "execution_count": 129,
     "metadata": {},
     "output_type": "execute_result"
    }
   ],
   "source": [
    "# look at individual columns with indexing, check unique values\n",
    "admissions['CAP_AYRC'].unique()"
   ]
  },
  {
   "cell_type": "code",
   "execution_count": 130,
   "id": "short-terrorism",
   "metadata": {},
   "outputs": [
    {
     "data": {
      "text/plain": [
       "array(['TMSCOMSSML01', 'TMSCOMSSSE01', 'TMSCOMSCGV01', 'TMSCOMSING01',\n",
       "       'TMSCOMSMCL01', 'TMSCOMSFRM01', 'TMSCOMSRAC01', 'TMSCOMSWEB01',\n",
       "       'TMSCOMSCFI01', 'TMSCOMSINF01', 'TMSCOMSFSE01', 'TMSCOMSDDI19'],\n",
       "      dtype=object)"
      ]
     },
     "execution_count": 130,
     "metadata": {},
     "output_type": "execute_result"
    }
   ],
   "source": [
    "admissions['CAP_CRSC'].unique()"
   ]
  },
  {
   "cell_type": "code",
   "execution_count": 131,
   "id": "southeast-quality",
   "metadata": {},
   "outputs": [
    {
     "data": {
      "text/plain": [
       "12"
      ]
     },
     "execution_count": 131,
     "metadata": {},
     "output_type": "execute_result"
    }
   ],
   "source": [
    "len(admissions['CAP_CRSC'].unique())"
   ]
  },
  {
   "cell_type": "markdown",
   "id": "packed-apparatus",
   "metadata": {},
   "source": [
    "We note that the data shows applications over 3 years for 12 courses. We'll continue using Pandas to manipulate/clean this admissions data so it is more useful for analysis and sharing..."
   ]
  },
  {
   "cell_type": "code",
   "execution_count": 132,
   "id": "sophisticated-signal",
   "metadata": {},
   "outputs": [
    {
     "data": {
      "text/html": [
       "<div>\n",
       "<style scoped>\n",
       "    .dataframe tbody tr th:only-of-type {\n",
       "        vertical-align: middle;\n",
       "    }\n",
       "\n",
       "    .dataframe tbody tr th {\n",
       "        vertical-align: top;\n",
       "    }\n",
       "\n",
       "    .dataframe thead th {\n",
       "        text-align: right;\n",
       "    }\n",
       "</style>\n",
       "<table border=\"1\" class=\"dataframe\">\n",
       "  <thead>\n",
       "    <tr style=\"text-align: right;\">\n",
       "      <th></th>\n",
       "      <th>Year</th>\n",
       "      <th>Course Code</th>\n",
       "      <th>Gender</th>\n",
       "      <th>Domicile Code</th>\n",
       "      <th>Decision Response</th>\n",
       "    </tr>\n",
       "  </thead>\n",
       "  <tbody>\n",
       "    <tr>\n",
       "      <th>0</th>\n",
       "      <td>2019</td>\n",
       "      <td>TMSCOMSSML01</td>\n",
       "      <td>M</td>\n",
       "      <td>5826</td>\n",
       "      <td>CFUF</td>\n",
       "    </tr>\n",
       "    <tr>\n",
       "      <th>1</th>\n",
       "      <td>2019</td>\n",
       "      <td>TMSCOMSSSE01</td>\n",
       "      <td>F</td>\n",
       "      <td>672</td>\n",
       "      <td>C</td>\n",
       "    </tr>\n",
       "    <tr>\n",
       "      <th>2</th>\n",
       "      <td>2020</td>\n",
       "      <td>TMSCOMSCGV01</td>\n",
       "      <td>M</td>\n",
       "      <td>764</td>\n",
       "      <td>R</td>\n",
       "    </tr>\n",
       "    <tr>\n",
       "      <th>3</th>\n",
       "      <td>2019</td>\n",
       "      <td>TMSCOMSSSE01</td>\n",
       "      <td>M</td>\n",
       "      <td>631</td>\n",
       "      <td>R</td>\n",
       "    </tr>\n",
       "    <tr>\n",
       "      <th>4</th>\n",
       "      <td>2019</td>\n",
       "      <td>TMSCOMSING01</td>\n",
       "      <td>M</td>\n",
       "      <td>771</td>\n",
       "      <td>R</td>\n",
       "    </tr>\n",
       "  </tbody>\n",
       "</table>\n",
       "</div>"
      ],
      "text/plain": [
       "   Year   Course Code Gender  Domicile Code Decision Response\n",
       "0  2019  TMSCOMSSML01      M           5826              CFUF\n",
       "1  2019  TMSCOMSSSE01      F            672                 C\n",
       "2  2020  TMSCOMSCGV01      M            764                 R\n",
       "3  2019  TMSCOMSSSE01      M            631                 R\n",
       "4  2019  TMSCOMSING01      M            771                 R"
      ]
     },
     "execution_count": 132,
     "metadata": {},
     "output_type": "execute_result"
    }
   ],
   "source": [
    "# renaming columns, python dictionary\n",
    "admissions.rename(columns={'CAP_AYRC': 'Year',\n",
    "                          'CAP_CRSC': 'Course Code',\n",
    "                          'STU_GEND': 'Gender',\n",
    "                          'STU_CODC': 'Domicile Code',\n",
    "                          'CAP_IDRC': 'Decision Response'}, inplace=True)\n",
    "\n",
    "admissions.head()"
   ]
  },
  {
   "cell_type": "code",
   "execution_count": 133,
   "id": "tight-world",
   "metadata": {},
   "outputs": [],
   "source": [
    "# changing data types\n",
    "'''\n",
    "we'll want to make sure any codes that could be interpreted as ints are seen as strings\n",
    "'''\n",
    "admissions['Year'] = admissions['Year'].astype(str)\n",
    "admissions['Course Code'] = admissions['Course Code'].astype(str)\n",
    "admissions['Domicile Code'] = admissions['Domicile Code'].astype(str)\n"
   ]
  },
  {
   "cell_type": "code",
   "execution_count": 134,
   "id": "universal-subject",
   "metadata": {},
   "outputs": [],
   "source": [
    "# lookups/joins \n",
    "'''\n",
    "use the code lookup tables to replace the course and domicile codes with their actual values\n",
    "'''\n",
    "course_codes.rename(columns={\"CRS_CODE\": 'Course Code'}, inplace=True)\n",
    "admissions = pd.merge(admissions, course_codes, on='Course Code', how='left')"
   ]
  },
  {
   "cell_type": "code",
   "execution_count": 135,
   "id": "moderate-caribbean",
   "metadata": {},
   "outputs": [
    {
     "data": {
      "text/html": [
       "<div>\n",
       "<style scoped>\n",
       "    .dataframe tbody tr th:only-of-type {\n",
       "        vertical-align: middle;\n",
       "    }\n",
       "\n",
       "    .dataframe tbody tr th {\n",
       "        vertical-align: top;\n",
       "    }\n",
       "\n",
       "    .dataframe thead th {\n",
       "        text-align: right;\n",
       "    }\n",
       "</style>\n",
       "<table border=\"1\" class=\"dataframe\">\n",
       "  <thead>\n",
       "    <tr style=\"text-align: right;\">\n",
       "      <th></th>\n",
       "      <th>Year</th>\n",
       "      <th>Course Code</th>\n",
       "      <th>Gender</th>\n",
       "      <th>Domicile Code</th>\n",
       "      <th>Decision Response</th>\n",
       "      <th>CRS_NAME</th>\n",
       "      <th>COD_NAME</th>\n",
       "    </tr>\n",
       "  </thead>\n",
       "  <tbody>\n",
       "    <tr>\n",
       "      <th>0</th>\n",
       "      <td>2019</td>\n",
       "      <td>TMSCOMSSML01</td>\n",
       "      <td>M</td>\n",
       "      <td>5826</td>\n",
       "      <td>CFUF</td>\n",
       "      <td>MSc Computational Statistics and Machine Learning</td>\n",
       "      <td>England</td>\n",
       "    </tr>\n",
       "    <tr>\n",
       "      <th>1</th>\n",
       "      <td>2019</td>\n",
       "      <td>TMSCOMSSSE01</td>\n",
       "      <td>F</td>\n",
       "      <td>672</td>\n",
       "      <td>C</td>\n",
       "      <td>MSc Software Systems Engineering</td>\n",
       "      <td>India</td>\n",
       "    </tr>\n",
       "    <tr>\n",
       "      <th>2</th>\n",
       "      <td>2020</td>\n",
       "      <td>TMSCOMSCGV01</td>\n",
       "      <td>M</td>\n",
       "      <td>764</td>\n",
       "      <td>R</td>\n",
       "      <td>MSc Computer Graphics, Vision and Imaging</td>\n",
       "      <td>United Arab Emirates</td>\n",
       "    </tr>\n",
       "    <tr>\n",
       "      <th>3</th>\n",
       "      <td>2019</td>\n",
       "      <td>TMSCOMSSSE01</td>\n",
       "      <td>M</td>\n",
       "      <td>631</td>\n",
       "      <td>R</td>\n",
       "      <td>MSc Software Systems Engineering</td>\n",
       "      <td>China</td>\n",
       "    </tr>\n",
       "    <tr>\n",
       "      <th>4</th>\n",
       "      <td>2019</td>\n",
       "      <td>TMSCOMSING01</td>\n",
       "      <td>M</td>\n",
       "      <td>771</td>\n",
       "      <td>R</td>\n",
       "      <td>MSc Computer Science</td>\n",
       "      <td>United States of America</td>\n",
       "    </tr>\n",
       "  </tbody>\n",
       "</table>\n",
       "</div>"
      ],
      "text/plain": [
       "   Year   Course Code Gender Domicile Code Decision Response  \\\n",
       "0  2019  TMSCOMSSML01      M          5826              CFUF   \n",
       "1  2019  TMSCOMSSSE01      F           672                 C   \n",
       "2  2020  TMSCOMSCGV01      M           764                 R   \n",
       "3  2019  TMSCOMSSSE01      M           631                 R   \n",
       "4  2019  TMSCOMSING01      M           771                 R   \n",
       "\n",
       "                                            CRS_NAME                  COD_NAME  \n",
       "0  MSc Computational Statistics and Machine Learning                   England  \n",
       "1                   MSc Software Systems Engineering                     India  \n",
       "2          MSc Computer Graphics, Vision and Imaging      United Arab Emirates  \n",
       "3                   MSc Software Systems Engineering                     China  \n",
       "4                               MSc Computer Science  United States of America  "
      ]
     },
     "execution_count": 135,
     "metadata": {},
     "output_type": "execute_result"
    }
   ],
   "source": [
    "cod_codes.rename(columns={'COD_CODE': 'Domicile Code'}, inplace=True)\n",
    "admissions = pd.merge(admissions, cod_codes, on='Domicile Code', how='left')\n",
    "\n",
    "admissions.head()"
   ]
  },
  {
   "cell_type": "code",
   "execution_count": 136,
   "id": "authentic-essex",
   "metadata": {},
   "outputs": [
    {
     "data": {
      "text/html": [
       "<div>\n",
       "<style scoped>\n",
       "    .dataframe tbody tr th:only-of-type {\n",
       "        vertical-align: middle;\n",
       "    }\n",
       "\n",
       "    .dataframe tbody tr th {\n",
       "        vertical-align: top;\n",
       "    }\n",
       "\n",
       "    .dataframe thead th {\n",
       "        text-align: right;\n",
       "    }\n",
       "</style>\n",
       "<table border=\"1\" class=\"dataframe\">\n",
       "  <thead>\n",
       "    <tr style=\"text-align: right;\">\n",
       "      <th></th>\n",
       "      <th>Year</th>\n",
       "      <th>Course Code</th>\n",
       "      <th>Gender</th>\n",
       "      <th>Course Name</th>\n",
       "      <th>Domicile Code</th>\n",
       "      <th>Domicile</th>\n",
       "      <th>Decision Response</th>\n",
       "    </tr>\n",
       "  </thead>\n",
       "  <tbody>\n",
       "    <tr>\n",
       "      <th>0</th>\n",
       "      <td>2019</td>\n",
       "      <td>TMSCOMSSML01</td>\n",
       "      <td>M</td>\n",
       "      <td>MSc Computational Statistics and Machine Learning</td>\n",
       "      <td>5826</td>\n",
       "      <td>England</td>\n",
       "      <td>CFUF</td>\n",
       "    </tr>\n",
       "    <tr>\n",
       "      <th>1</th>\n",
       "      <td>2019</td>\n",
       "      <td>TMSCOMSSSE01</td>\n",
       "      <td>F</td>\n",
       "      <td>MSc Software Systems Engineering</td>\n",
       "      <td>672</td>\n",
       "      <td>India</td>\n",
       "      <td>C</td>\n",
       "    </tr>\n",
       "    <tr>\n",
       "      <th>2</th>\n",
       "      <td>2020</td>\n",
       "      <td>TMSCOMSCGV01</td>\n",
       "      <td>M</td>\n",
       "      <td>MSc Computer Graphics, Vision and Imaging</td>\n",
       "      <td>764</td>\n",
       "      <td>United Arab Emirates</td>\n",
       "      <td>R</td>\n",
       "    </tr>\n",
       "    <tr>\n",
       "      <th>3</th>\n",
       "      <td>2019</td>\n",
       "      <td>TMSCOMSSSE01</td>\n",
       "      <td>M</td>\n",
       "      <td>MSc Software Systems Engineering</td>\n",
       "      <td>631</td>\n",
       "      <td>China</td>\n",
       "      <td>R</td>\n",
       "    </tr>\n",
       "    <tr>\n",
       "      <th>4</th>\n",
       "      <td>2019</td>\n",
       "      <td>TMSCOMSING01</td>\n",
       "      <td>M</td>\n",
       "      <td>MSc Computer Science</td>\n",
       "      <td>771</td>\n",
       "      <td>United States of America</td>\n",
       "      <td>R</td>\n",
       "    </tr>\n",
       "  </tbody>\n",
       "</table>\n",
       "</div>"
      ],
      "text/plain": [
       "   Year   Course Code Gender  \\\n",
       "0  2019  TMSCOMSSML01      M   \n",
       "1  2019  TMSCOMSSSE01      F   \n",
       "2  2020  TMSCOMSCGV01      M   \n",
       "3  2019  TMSCOMSSSE01      M   \n",
       "4  2019  TMSCOMSING01      M   \n",
       "\n",
       "                                         Course Name Domicile Code  \\\n",
       "0  MSc Computational Statistics and Machine Learning          5826   \n",
       "1                   MSc Software Systems Engineering           672   \n",
       "2          MSc Computer Graphics, Vision and Imaging           764   \n",
       "3                   MSc Software Systems Engineering           631   \n",
       "4                               MSc Computer Science           771   \n",
       "\n",
       "                   Domicile Decision Response  \n",
       "0                   England              CFUF  \n",
       "1                     India                 C  \n",
       "2      United Arab Emirates                 R  \n",
       "3                     China                 R  \n",
       "4  United States of America                 R  "
      ]
     },
     "execution_count": 136,
     "metadata": {},
     "output_type": "execute_result"
    }
   ],
   "source": [
    "# reordering columns\n",
    "admissions = admissions[['Year',\n",
    "                        'Course Code',\n",
    "                         'Gender',\n",
    "                        'CRS_NAME',\n",
    "                        'Domicile Code',\n",
    "                        'COD_NAME',\n",
    "                        'Decision Response']]\n",
    "\n",
    "admissions.rename(columns={'CRS_NAME': 'Course Name',\n",
    "                          'COD_NAME': 'Domicile'}, inplace=True)\n",
    "\n",
    "admissions.head()"
   ]
  },
  {
   "cell_type": "code",
   "execution_count": 137,
   "id": "collect-lotus",
   "metadata": {},
   "outputs": [
    {
     "data": {
      "text/html": [
       "<div>\n",
       "<style scoped>\n",
       "    .dataframe tbody tr th:only-of-type {\n",
       "        vertical-align: middle;\n",
       "    }\n",
       "\n",
       "    .dataframe tbody tr th {\n",
       "        vertical-align: top;\n",
       "    }\n",
       "\n",
       "    .dataframe thead th {\n",
       "        text-align: right;\n",
       "    }\n",
       "</style>\n",
       "<table border=\"1\" class=\"dataframe\">\n",
       "  <thead>\n",
       "    <tr style=\"text-align: right;\">\n",
       "      <th></th>\n",
       "      <th>Year</th>\n",
       "      <th>Gender</th>\n",
       "      <th>Course Name</th>\n",
       "      <th>Domicile</th>\n",
       "      <th>Decision Response</th>\n",
       "    </tr>\n",
       "  </thead>\n",
       "  <tbody>\n",
       "    <tr>\n",
       "      <th>0</th>\n",
       "      <td>2019</td>\n",
       "      <td>M</td>\n",
       "      <td>MSc Computational Statistics and Machine Learning</td>\n",
       "      <td>England</td>\n",
       "      <td>CFUF</td>\n",
       "    </tr>\n",
       "    <tr>\n",
       "      <th>1</th>\n",
       "      <td>2019</td>\n",
       "      <td>F</td>\n",
       "      <td>MSc Software Systems Engineering</td>\n",
       "      <td>India</td>\n",
       "      <td>C</td>\n",
       "    </tr>\n",
       "    <tr>\n",
       "      <th>2</th>\n",
       "      <td>2020</td>\n",
       "      <td>M</td>\n",
       "      <td>MSc Computer Graphics, Vision and Imaging</td>\n",
       "      <td>United Arab Emirates</td>\n",
       "      <td>R</td>\n",
       "    </tr>\n",
       "    <tr>\n",
       "      <th>3</th>\n",
       "      <td>2019</td>\n",
       "      <td>M</td>\n",
       "      <td>MSc Software Systems Engineering</td>\n",
       "      <td>China</td>\n",
       "      <td>R</td>\n",
       "    </tr>\n",
       "    <tr>\n",
       "      <th>4</th>\n",
       "      <td>2019</td>\n",
       "      <td>M</td>\n",
       "      <td>MSc Computer Science</td>\n",
       "      <td>United States of America</td>\n",
       "      <td>R</td>\n",
       "    </tr>\n",
       "  </tbody>\n",
       "</table>\n",
       "</div>"
      ],
      "text/plain": [
       "   Year Gender                                        Course Name  \\\n",
       "0  2019      M  MSc Computational Statistics and Machine Learning   \n",
       "1  2019      F                   MSc Software Systems Engineering   \n",
       "2  2020      M          MSc Computer Graphics, Vision and Imaging   \n",
       "3  2019      M                   MSc Software Systems Engineering   \n",
       "4  2019      M                               MSc Computer Science   \n",
       "\n",
       "                   Domicile Decision Response  \n",
       "0                   England              CFUF  \n",
       "1                     India                 C  \n",
       "2      United Arab Emirates                 R  \n",
       "3                     China                 R  \n",
       "4  United States of America                 R  "
      ]
     },
     "execution_count": 137,
     "metadata": {},
     "output_type": "execute_result"
    }
   ],
   "source": [
    "# dropping unwanted columns\n",
    "admissions.drop('Course Code', 1, inplace=True)\n",
    "admissions.drop('Domicile Code', 1, inplace=True)\n",
    "admissions.head()"
   ]
  },
  {
   "cell_type": "code",
   "execution_count": 138,
   "id": "disturbed-button",
   "metadata": {},
   "outputs": [
    {
     "data": {
      "text/html": [
       "<div>\n",
       "<style scoped>\n",
       "    .dataframe tbody tr th:only-of-type {\n",
       "        vertical-align: middle;\n",
       "    }\n",
       "\n",
       "    .dataframe tbody tr th {\n",
       "        vertical-align: top;\n",
       "    }\n",
       "\n",
       "    .dataframe thead th {\n",
       "        text-align: right;\n",
       "    }\n",
       "</style>\n",
       "<table border=\"1\" class=\"dataframe\">\n",
       "  <thead>\n",
       "    <tr style=\"text-align: right;\">\n",
       "      <th></th>\n",
       "      <th>Year</th>\n",
       "      <th>Gender</th>\n",
       "      <th>Course Name</th>\n",
       "      <th>Domicile</th>\n",
       "      <th>Decision Response</th>\n",
       "    </tr>\n",
       "  </thead>\n",
       "  <tbody>\n",
       "    <tr>\n",
       "      <th>0</th>\n",
       "      <td>2019</td>\n",
       "      <td>Male</td>\n",
       "      <td>MSc Computational Statistics and Machine Learning</td>\n",
       "      <td>England</td>\n",
       "      <td>CFUF</td>\n",
       "    </tr>\n",
       "    <tr>\n",
       "      <th>1</th>\n",
       "      <td>2019</td>\n",
       "      <td>Female</td>\n",
       "      <td>MSc Software Systems Engineering</td>\n",
       "      <td>India</td>\n",
       "      <td>C</td>\n",
       "    </tr>\n",
       "    <tr>\n",
       "      <th>2</th>\n",
       "      <td>2020</td>\n",
       "      <td>Male</td>\n",
       "      <td>MSc Computer Graphics, Vision and Imaging</td>\n",
       "      <td>United Arab Emirates</td>\n",
       "      <td>R</td>\n",
       "    </tr>\n",
       "    <tr>\n",
       "      <th>3</th>\n",
       "      <td>2019</td>\n",
       "      <td>Male</td>\n",
       "      <td>MSc Software Systems Engineering</td>\n",
       "      <td>China</td>\n",
       "      <td>R</td>\n",
       "    </tr>\n",
       "    <tr>\n",
       "      <th>4</th>\n",
       "      <td>2019</td>\n",
       "      <td>Male</td>\n",
       "      <td>MSc Computer Science</td>\n",
       "      <td>United States of America</td>\n",
       "      <td>R</td>\n",
       "    </tr>\n",
       "  </tbody>\n",
       "</table>\n",
       "</div>"
      ],
      "text/plain": [
       "   Year  Gender                                        Course Name  \\\n",
       "0  2019    Male  MSc Computational Statistics and Machine Learning   \n",
       "1  2019  Female                   MSc Software Systems Engineering   \n",
       "2  2020    Male          MSc Computer Graphics, Vision and Imaging   \n",
       "3  2019    Male                   MSc Software Systems Engineering   \n",
       "4  2019    Male                               MSc Computer Science   \n",
       "\n",
       "                   Domicile Decision Response  \n",
       "0                   England              CFUF  \n",
       "1                     India                 C  \n",
       "2      United Arab Emirates                 R  \n",
       "3                     China                 R  \n",
       "4  United States of America                 R  "
      ]
     },
     "execution_count": 138,
     "metadata": {},
     "output_type": "execute_result"
    }
   ],
   "source": [
    "# mapping one value to another\n",
    "gender_map = {'M': 'Male', 'F': 'Female'}\n",
    "admissions['Gender'] = admissions['Gender'].map(gender_map)\n",
    "admissions.head()"
   ]
  },
  {
   "cell_type": "code",
   "execution_count": 139,
   "id": "subjective-emperor",
   "metadata": {},
   "outputs": [],
   "source": [
    "# sorting the data\n",
    "admissions.sort_values('Year', ascending=False, inplace=True)"
   ]
  },
  {
   "cell_type": "code",
   "execution_count": 140,
   "id": "embedded-passing",
   "metadata": {},
   "outputs": [
    {
     "data": {
      "text/html": [
       "<div>\n",
       "<style scoped>\n",
       "    .dataframe tbody tr th:only-of-type {\n",
       "        vertical-align: middle;\n",
       "    }\n",
       "\n",
       "    .dataframe tbody tr th {\n",
       "        vertical-align: top;\n",
       "    }\n",
       "\n",
       "    .dataframe thead th {\n",
       "        text-align: right;\n",
       "    }\n",
       "</style>\n",
       "<table border=\"1\" class=\"dataframe\">\n",
       "  <thead>\n",
       "    <tr style=\"text-align: right;\">\n",
       "      <th></th>\n",
       "      <th>Year</th>\n",
       "      <th>Gender</th>\n",
       "      <th>Course Name</th>\n",
       "      <th>Domicile</th>\n",
       "      <th>Decision Response</th>\n",
       "    </tr>\n",
       "  </thead>\n",
       "  <tbody>\n",
       "    <tr>\n",
       "      <th>6375</th>\n",
       "      <td>2020</td>\n",
       "      <td>Male</td>\n",
       "      <td>MSc Financial Risk Management</td>\n",
       "      <td>China</td>\n",
       "      <td>CFUF</td>\n",
       "    </tr>\n",
       "    <tr>\n",
       "      <th>6737</th>\n",
       "      <td>2020</td>\n",
       "      <td>Male</td>\n",
       "      <td>MSc Machine Learning</td>\n",
       "      <td>France</td>\n",
       "      <td>NaN</td>\n",
       "    </tr>\n",
       "    <tr>\n",
       "      <th>6679</th>\n",
       "      <td>2020</td>\n",
       "      <td>Male</td>\n",
       "      <td>MSc Computational Statistics and Machine Learning</td>\n",
       "      <td>China</td>\n",
       "      <td>R</td>\n",
       "    </tr>\n",
       "    <tr>\n",
       "      <th>6675</th>\n",
       "      <td>2020</td>\n",
       "      <td>Male</td>\n",
       "      <td>MSc Machine Learning</td>\n",
       "      <td>England</td>\n",
       "      <td>R</td>\n",
       "    </tr>\n",
       "    <tr>\n",
       "      <th>6672</th>\n",
       "      <td>2020</td>\n",
       "      <td>Male</td>\n",
       "      <td>MSc Computer Science</td>\n",
       "      <td>China</td>\n",
       "      <td>R</td>\n",
       "    </tr>\n",
       "  </tbody>\n",
       "</table>\n",
       "</div>"
      ],
      "text/plain": [
       "      Year Gender                                        Course Name Domicile  \\\n",
       "6375  2020   Male                      MSc Financial Risk Management    China   \n",
       "6737  2020   Male                               MSc Machine Learning   France   \n",
       "6679  2020   Male  MSc Computational Statistics and Machine Learning    China   \n",
       "6675  2020   Male                               MSc Machine Learning  England   \n",
       "6672  2020   Male                               MSc Computer Science    China   \n",
       "\n",
       "     Decision Response  \n",
       "6375              CFUF  \n",
       "6737               NaN  \n",
       "6679                 R  \n",
       "6675                 R  \n",
       "6672                 R  "
      ]
     },
     "execution_count": 140,
     "metadata": {},
     "output_type": "execute_result"
    }
   ],
   "source": [
    "admissions.head()"
   ]
  },
  {
   "cell_type": "code",
   "execution_count": 141,
   "id": "comfortable-nylon",
   "metadata": {},
   "outputs": [
    {
     "data": {
      "text/html": [
       "<div>\n",
       "<style scoped>\n",
       "    .dataframe tbody tr th:only-of-type {\n",
       "        vertical-align: middle;\n",
       "    }\n",
       "\n",
       "    .dataframe tbody tr th {\n",
       "        vertical-align: top;\n",
       "    }\n",
       "\n",
       "    .dataframe thead th {\n",
       "        text-align: right;\n",
       "    }\n",
       "</style>\n",
       "<table border=\"1\" class=\"dataframe\">\n",
       "  <thead>\n",
       "    <tr style=\"text-align: right;\">\n",
       "      <th></th>\n",
       "      <th>Year</th>\n",
       "      <th>Gender</th>\n",
       "      <th>Course Name</th>\n",
       "      <th>Domicile</th>\n",
       "      <th>Decision</th>\n",
       "    </tr>\n",
       "  </thead>\n",
       "  <tbody>\n",
       "    <tr>\n",
       "      <th>6375</th>\n",
       "      <td>2020</td>\n",
       "      <td>Male</td>\n",
       "      <td>MSc Financial Risk Management</td>\n",
       "      <td>China</td>\n",
       "      <td>Conditional Offer</td>\n",
       "    </tr>\n",
       "    <tr>\n",
       "      <th>6737</th>\n",
       "      <td>2020</td>\n",
       "      <td>Male</td>\n",
       "      <td>MSc Machine Learning</td>\n",
       "      <td>France</td>\n",
       "      <td>None</td>\n",
       "    </tr>\n",
       "    <tr>\n",
       "      <th>6679</th>\n",
       "      <td>2020</td>\n",
       "      <td>Male</td>\n",
       "      <td>MSc Computational Statistics and Machine Learning</td>\n",
       "      <td>China</td>\n",
       "      <td>Rejection</td>\n",
       "    </tr>\n",
       "    <tr>\n",
       "      <th>6675</th>\n",
       "      <td>2020</td>\n",
       "      <td>Male</td>\n",
       "      <td>MSc Machine Learning</td>\n",
       "      <td>England</td>\n",
       "      <td>Rejection</td>\n",
       "    </tr>\n",
       "    <tr>\n",
       "      <th>6672</th>\n",
       "      <td>2020</td>\n",
       "      <td>Male</td>\n",
       "      <td>MSc Computer Science</td>\n",
       "      <td>China</td>\n",
       "      <td>Rejection</td>\n",
       "    </tr>\n",
       "  </tbody>\n",
       "</table>\n",
       "</div>"
      ],
      "text/plain": [
       "      Year Gender                                        Course Name Domicile  \\\n",
       "6375  2020   Male                      MSc Financial Risk Management    China   \n",
       "6737  2020   Male                               MSc Machine Learning   France   \n",
       "6679  2020   Male  MSc Computational Statistics and Machine Learning    China   \n",
       "6675  2020   Male                               MSc Machine Learning  England   \n",
       "6672  2020   Male                               MSc Computer Science    China   \n",
       "\n",
       "               Decision  \n",
       "6375  Conditional Offer  \n",
       "6737               None  \n",
       "6679          Rejection  \n",
       "6675          Rejection  \n",
       "6672          Rejection  "
      ]
     },
     "execution_count": 141,
     "metadata": {},
     "output_type": "execute_result"
    }
   ],
   "source": [
    "# applying custom functions\n",
    "\n",
    "'''\n",
    "define our own custom function to add meaning to the decision response codes\n",
    "'''\n",
    "\n",
    "def offer_made(decision):\n",
    "    decision = str(decision)\n",
    "    if decision.startswith('C'):\n",
    "        return 'Conditional Offer'\n",
    "    elif decision.startswith('U'):\n",
    "        return 'Unconditional Offer'\n",
    "    elif decision.startswith('R'):\n",
    "        return 'Rejection'\n",
    "    else:\n",
    "        return 'None'\n",
    "    \n",
    "admissions['Decision Response'] = admissions['Decision Response'].apply(offer_made)\n",
    "admissions.rename(columns={'Decision Response': 'Decision'}, inplace=True)\n",
    "admissions.head()"
   ]
  },
  {
   "cell_type": "code",
   "execution_count": 142,
   "id": "fixed-lighter",
   "metadata": {},
   "outputs": [],
   "source": [
    "# saving the cleaned data to a new csv\n",
    "admissions.to_csv('admissions_cleaned.csv', index=False)"
   ]
  },
  {
   "cell_type": "markdown",
   "id": "colonial-prospect",
   "metadata": {},
   "source": [
    "## 4. Analysing the Data\n",
    "\n",
    "Once the data is in a cleaned and ready state, we can continue by appying further Pandas/python functions to explore and analyse"
   ]
  },
  {
   "cell_type": "code",
   "execution_count": 143,
   "id": "starting-boards",
   "metadata": {},
   "outputs": [
    {
     "data": {
      "text/html": [
       "<div>\n",
       "<style scoped>\n",
       "    .dataframe tbody tr th:only-of-type {\n",
       "        vertical-align: middle;\n",
       "    }\n",
       "\n",
       "    .dataframe tbody tr th {\n",
       "        vertical-align: top;\n",
       "    }\n",
       "\n",
       "    .dataframe thead th {\n",
       "        text-align: right;\n",
       "    }\n",
       "</style>\n",
       "<table border=\"1\" class=\"dataframe\">\n",
       "  <thead>\n",
       "    <tr style=\"text-align: right;\">\n",
       "      <th></th>\n",
       "      <th>Year</th>\n",
       "      <th>Gender</th>\n",
       "      <th>Course Name</th>\n",
       "      <th>Domicile</th>\n",
       "      <th>Decision</th>\n",
       "      <th>Offer</th>\n",
       "    </tr>\n",
       "  </thead>\n",
       "  <tbody>\n",
       "    <tr>\n",
       "      <th>6375</th>\n",
       "      <td>2020</td>\n",
       "      <td>Male</td>\n",
       "      <td>MSc Financial Risk Management</td>\n",
       "      <td>China</td>\n",
       "      <td>Conditional Offer</td>\n",
       "      <td>1</td>\n",
       "    </tr>\n",
       "    <tr>\n",
       "      <th>6737</th>\n",
       "      <td>2020</td>\n",
       "      <td>Male</td>\n",
       "      <td>MSc Machine Learning</td>\n",
       "      <td>France</td>\n",
       "      <td>None</td>\n",
       "      <td>0</td>\n",
       "    </tr>\n",
       "    <tr>\n",
       "      <th>6679</th>\n",
       "      <td>2020</td>\n",
       "      <td>Male</td>\n",
       "      <td>MSc Computational Statistics and Machine Learning</td>\n",
       "      <td>China</td>\n",
       "      <td>Rejection</td>\n",
       "      <td>0</td>\n",
       "    </tr>\n",
       "    <tr>\n",
       "      <th>6675</th>\n",
       "      <td>2020</td>\n",
       "      <td>Male</td>\n",
       "      <td>MSc Machine Learning</td>\n",
       "      <td>England</td>\n",
       "      <td>Rejection</td>\n",
       "      <td>0</td>\n",
       "    </tr>\n",
       "    <tr>\n",
       "      <th>6672</th>\n",
       "      <td>2020</td>\n",
       "      <td>Male</td>\n",
       "      <td>MSc Computer Science</td>\n",
       "      <td>China</td>\n",
       "      <td>Rejection</td>\n",
       "      <td>0</td>\n",
       "    </tr>\n",
       "  </tbody>\n",
       "</table>\n",
       "</div>"
      ],
      "text/plain": [
       "      Year Gender                                        Course Name Domicile  \\\n",
       "6375  2020   Male                      MSc Financial Risk Management    China   \n",
       "6737  2020   Male                               MSc Machine Learning   France   \n",
       "6679  2020   Male  MSc Computational Statistics and Machine Learning    China   \n",
       "6675  2020   Male                               MSc Machine Learning  England   \n",
       "6672  2020   Male                               MSc Computer Science    China   \n",
       "\n",
       "               Decision  Offer  \n",
       "6375  Conditional Offer      1  \n",
       "6737               None      0  \n",
       "6679          Rejection      0  \n",
       "6675          Rejection      0  \n",
       "6672          Rejection      0  "
      ]
     },
     "execution_count": 143,
     "metadata": {},
     "output_type": "execute_result"
    }
   ],
   "source": [
    "'''\n",
    "quick analysis by functions\n",
    "'''\n",
    "def offer(decision):\n",
    "    decision = str(decision)\n",
    "    if 'Conditional' in decision or 'Unconditional' in decision:\n",
    "        return 1\n",
    "    return 0\n",
    "\n",
    "admissions['Offer'] = admissions['Decision'].apply(offer)\n",
    "admissions.head()"
   ]
  },
  {
   "cell_type": "code",
   "execution_count": 144,
   "id": "framed-airline",
   "metadata": {},
   "outputs": [
    {
     "data": {
      "text/plain": [
       "2818"
      ]
     },
     "execution_count": 144,
     "metadata": {},
     "output_type": "execute_result"
    }
   ],
   "source": [
    "offers_made = int(admissions['Offer'].sum())\n",
    "offers_made"
   ]
  },
  {
   "cell_type": "code",
   "execution_count": 145,
   "id": "innocent-characterization",
   "metadata": {},
   "outputs": [
    {
     "data": {
      "text/plain": [
       "0.221002274331425"
      ]
     },
     "execution_count": 145,
     "metadata": {},
     "output_type": "execute_result"
    }
   ],
   "source": [
    "offers_made/len(admissions)"
   ]
  },
  {
   "cell_type": "markdown",
   "id": "instrumental-disney",
   "metadata": {},
   "source": [
    "Applying aggregate/sum function to quickly count offers shows that 2818 offers were given which is an overall acceptace rate of 22.1%"
   ]
  },
  {
   "cell_type": "code",
   "execution_count": 146,
   "id": "productive-reasoning",
   "metadata": {},
   "outputs": [
    {
     "data": {
      "text/html": [
       "<div>\n",
       "<style scoped>\n",
       "    .dataframe tbody tr th:only-of-type {\n",
       "        vertical-align: middle;\n",
       "    }\n",
       "\n",
       "    .dataframe tbody tr th {\n",
       "        vertical-align: top;\n",
       "    }\n",
       "\n",
       "    .dataframe thead th {\n",
       "        text-align: right;\n",
       "    }\n",
       "</style>\n",
       "<table border=\"1\" class=\"dataframe\">\n",
       "  <thead>\n",
       "    <tr style=\"text-align: right;\">\n",
       "      <th></th>\n",
       "      <th>Year</th>\n",
       "      <th>Gender</th>\n",
       "      <th>Course Name</th>\n",
       "      <th>Domicile</th>\n",
       "      <th>Decision</th>\n",
       "      <th>Offer</th>\n",
       "    </tr>\n",
       "  </thead>\n",
       "  <tbody>\n",
       "    <tr>\n",
       "      <th>6672</th>\n",
       "      <td>2020</td>\n",
       "      <td>Male</td>\n",
       "      <td>MSc Computer Science</td>\n",
       "      <td>China</td>\n",
       "      <td>Rejection</td>\n",
       "      <td>0</td>\n",
       "    </tr>\n",
       "    <tr>\n",
       "      <th>6671</th>\n",
       "      <td>2020</td>\n",
       "      <td>Female</td>\n",
       "      <td>MSc Computer Science</td>\n",
       "      <td>China</td>\n",
       "      <td>Rejection</td>\n",
       "      <td>0</td>\n",
       "    </tr>\n",
       "    <tr>\n",
       "      <th>6664</th>\n",
       "      <td>2020</td>\n",
       "      <td>Female</td>\n",
       "      <td>MSc Computer Science</td>\n",
       "      <td>England</td>\n",
       "      <td>Rejection</td>\n",
       "      <td>0</td>\n",
       "    </tr>\n",
       "    <tr>\n",
       "      <th>6653</th>\n",
       "      <td>2020</td>\n",
       "      <td>Male</td>\n",
       "      <td>MSc Computer Science</td>\n",
       "      <td>England</td>\n",
       "      <td>Rejection</td>\n",
       "      <td>0</td>\n",
       "    </tr>\n",
       "    <tr>\n",
       "      <th>6620</th>\n",
       "      <td>2020</td>\n",
       "      <td>Female</td>\n",
       "      <td>MSc Computer Science</td>\n",
       "      <td>China</td>\n",
       "      <td>None</td>\n",
       "      <td>0</td>\n",
       "    </tr>\n",
       "  </tbody>\n",
       "</table>\n",
       "</div>"
      ],
      "text/plain": [
       "      Year  Gender           Course Name Domicile   Decision  Offer\n",
       "6672  2020    Male  MSc Computer Science    China  Rejection      0\n",
       "6671  2020  Female  MSc Computer Science    China  Rejection      0\n",
       "6664  2020  Female  MSc Computer Science  England  Rejection      0\n",
       "6653  2020    Male  MSc Computer Science  England  Rejection      0\n",
       "6620  2020  Female  MSc Computer Science    China       None      0"
      ]
     },
     "execution_count": 146,
     "metadata": {},
     "output_type": "execute_result"
    }
   ],
   "source": [
    "# Segregating the data. Let's look at Msc Computer Science only\n",
    "cs = admissions[admissions['Course Name'] == 'MSc Computer Science']\n",
    "cs.head()"
   ]
  },
  {
   "cell_type": "code",
   "execution_count": 147,
   "id": "stupid-weapon",
   "metadata": {},
   "outputs": [
    {
     "data": {
      "text/plain": [
       "2389"
      ]
     },
     "execution_count": 147,
     "metadata": {},
     "output_type": "execute_result"
    }
   ],
   "source": [
    "len(cs)"
   ]
  },
  {
   "cell_type": "code",
   "execution_count": 148,
   "id": "unnecessary-cyprus",
   "metadata": {},
   "outputs": [],
   "source": [
    "offers_made = int(cs['Offer'].sum())"
   ]
  },
  {
   "cell_type": "code",
   "execution_count": 149,
   "id": "boxed-rates",
   "metadata": {},
   "outputs": [
    {
     "data": {
      "text/plain": [
       "534"
      ]
     },
     "execution_count": 149,
     "metadata": {},
     "output_type": "execute_result"
    }
   ],
   "source": [
    "offers_made"
   ]
  },
  {
   "cell_type": "code",
   "execution_count": 179,
   "id": "biblical-member",
   "metadata": {},
   "outputs": [
    {
     "data": {
      "text/plain": [
       "0.22352448723315194"
      ]
     },
     "execution_count": 179,
     "metadata": {},
     "output_type": "execute_result"
    }
   ],
   "source": [
    "acceptance_rate = offers_made/len(cs)\n",
    "acceptance_rate"
   ]
  },
  {
   "cell_type": "markdown",
   "id": "nuclear-affiliate",
   "metadata": {},
   "source": [
    "MSc Computer Science has 534 offers and a similar acceptance rate of 22.3% over its 2389 applications the past 3 years"
   ]
  },
  {
   "cell_type": "code",
   "execution_count": 257,
   "id": "dirty-locator",
   "metadata": {},
   "outputs": [
    {
     "data": {
      "text/html": [
       "<font-size:40px><b>MSc Computer Science</b><div style = 'background-color: grey; padding: 30px '><span style='color: #fff; font-size:30px;'> Applications: 2389</span><p></p><span style='color: blue; font-size:30px;'> Offers: 534</span><p></p><span style='color: green; font-size:30px;'> Acceptance: 22.4%</span></div>"
      ],
      "text/plain": [
       "<IPython.core.display.HTML object>"
      ]
     },
     "metadata": {},
     "output_type": "display_data"
    }
   ],
   "source": [
    "# embedding totals in HTML\n",
    "\n",
    "display(HTML(\"<font-size:40px><b>MSc Computer Science</b><div style = 'background-color: grey; padding: 30px '>\" +\n",
    "              \"<span style='color: #fff; font-size:30px;'> Applications: \"  + str(len(cs)) +\"</span><p>\" +\n",
    "             \"</p><span style='color: blue; font-size:30px;'> Offers: \"  + str(offers_made) +\"</span><p>\" +\n",
    "             \"</p><span style='color: green; font-size:30px;'> Acceptance: \" + str(round(acceptance_rate*100,1))+'%' + \"</span>\"+\n",
    "             \"</div>\")\n",
    "       )"
   ]
  },
  {
   "cell_type": "code",
   "execution_count": 268,
   "id": "adolescent-pledge",
   "metadata": {},
   "outputs": [
    {
     "data": {
      "text/html": [
       "<div>\n",
       "<style scoped>\n",
       "    .dataframe tbody tr th:only-of-type {\n",
       "        vertical-align: middle;\n",
       "    }\n",
       "\n",
       "    .dataframe tbody tr th {\n",
       "        vertical-align: top;\n",
       "    }\n",
       "\n",
       "    .dataframe thead th {\n",
       "        text-align: right;\n",
       "    }\n",
       "</style>\n",
       "<table border=\"1\" class=\"dataframe\">\n",
       "  <thead>\n",
       "    <tr style=\"text-align: right;\">\n",
       "      <th></th>\n",
       "      <th>Offer</th>\n",
       "    </tr>\n",
       "    <tr>\n",
       "      <th>Year</th>\n",
       "      <th></th>\n",
       "    </tr>\n",
       "  </thead>\n",
       "  <tbody>\n",
       "    <tr>\n",
       "      <th>2018</th>\n",
       "      <td>149</td>\n",
       "    </tr>\n",
       "    <tr>\n",
       "      <th>2019</th>\n",
       "      <td>132</td>\n",
       "    </tr>\n",
       "    <tr>\n",
       "      <th>2020</th>\n",
       "      <td>253</td>\n",
       "    </tr>\n",
       "  </tbody>\n",
       "</table>\n",
       "</div>"
      ],
      "text/plain": [
       "      Offer\n",
       "Year       \n",
       "2018    149\n",
       "2019    132\n",
       "2020    253"
      ]
     },
     "execution_count": 268,
     "metadata": {},
     "output_type": "execute_result"
    }
   ],
   "source": [
    "'''\n",
    "Aggreating/Pivoting\n",
    "\n",
    "Pivot and pivot table functionality in Jupyter to quickly report on data and\n",
    "see useful patterns\n",
    "\n",
    "Let's break down the 534 offers made for MSc Computer Science by Year\n",
    "'''\n",
    "cs_offers = cs.groupby(['Year']).sum()\n",
    "cs_offers"
   ]
  },
  {
   "cell_type": "code",
   "execution_count": 269,
   "id": "wound-brisbane",
   "metadata": {},
   "outputs": [],
   "source": [
    "'''\n",
    "Create a pivot table of all admissions data, by year, course and count of offers made by Gender\n",
    "'''\n",
    "offers_made_by_year_by_gender = pd.pivot_table(admissions, values='Offer', index=['Year', 'Course Name'], columns=['Gender'], aggfunc=np.sum)"
   ]
  },
  {
   "cell_type": "code",
   "execution_count": 270,
   "id": "ranging-newman",
   "metadata": {},
   "outputs": [
    {
     "data": {
      "text/html": [
       "<div>\n",
       "<style scoped>\n",
       "    .dataframe tbody tr th:only-of-type {\n",
       "        vertical-align: middle;\n",
       "    }\n",
       "\n",
       "    .dataframe tbody tr th {\n",
       "        vertical-align: top;\n",
       "    }\n",
       "\n",
       "    .dataframe thead th {\n",
       "        text-align: right;\n",
       "    }\n",
       "</style>\n",
       "<table border=\"1\" class=\"dataframe\">\n",
       "  <thead>\n",
       "    <tr style=\"text-align: right;\">\n",
       "      <th></th>\n",
       "      <th>Gender</th>\n",
       "      <th>Female</th>\n",
       "      <th>Male</th>\n",
       "    </tr>\n",
       "    <tr>\n",
       "      <th>Year</th>\n",
       "      <th>Course Name</th>\n",
       "      <th></th>\n",
       "      <th></th>\n",
       "    </tr>\n",
       "  </thead>\n",
       "  <tbody>\n",
       "    <tr>\n",
       "      <th rowspan=\"12\" valign=\"top\">2018</th>\n",
       "      <th>MSc Computational Finance</th>\n",
       "      <td>21</td>\n",
       "      <td>56</td>\n",
       "    </tr>\n",
       "    <tr>\n",
       "      <th>MSc Computational Statistics and Machine Learning</th>\n",
       "      <td>25</td>\n",
       "      <td>61</td>\n",
       "    </tr>\n",
       "    <tr>\n",
       "      <th>MSc Computer Graphics, Vision and Imaging</th>\n",
       "      <td>17</td>\n",
       "      <td>27</td>\n",
       "    </tr>\n",
       "    <tr>\n",
       "      <th>MSc Computer Science</th>\n",
       "      <td>50</td>\n",
       "      <td>99</td>\n",
       "    </tr>\n",
       "    <tr>\n",
       "      <th>MSc Disability, Design and Innovation</th>\n",
       "      <td>1</td>\n",
       "      <td>4</td>\n",
       "    </tr>\n",
       "    <tr>\n",
       "      <th>MSc Financial Risk Management</th>\n",
       "      <td>41</td>\n",
       "      <td>106</td>\n",
       "    </tr>\n",
       "    <tr>\n",
       "      <th>MSc Financial Systems Engineering</th>\n",
       "      <td>0</td>\n",
       "      <td>2</td>\n",
       "    </tr>\n",
       "    <tr>\n",
       "      <th>MSc Information Security</th>\n",
       "      <td>13</td>\n",
       "      <td>26</td>\n",
       "    </tr>\n",
       "    <tr>\n",
       "      <th>MSc Machine Learning</th>\n",
       "      <td>53</td>\n",
       "      <td>102</td>\n",
       "    </tr>\n",
       "    <tr>\n",
       "      <th>MSc Robotics and Computation</th>\n",
       "      <td>14</td>\n",
       "      <td>38</td>\n",
       "    </tr>\n",
       "    <tr>\n",
       "      <th>MSc Software Systems Engineering</th>\n",
       "      <td>14</td>\n",
       "      <td>24</td>\n",
       "    </tr>\n",
       "    <tr>\n",
       "      <th>MSc Web Science and Big Data Analytics</th>\n",
       "      <td>5</td>\n",
       "      <td>8</td>\n",
       "    </tr>\n",
       "    <tr>\n",
       "      <th rowspan=\"12\" valign=\"top\">2019</th>\n",
       "      <th>MSc Computational Finance</th>\n",
       "      <td>19</td>\n",
       "      <td>55</td>\n",
       "    </tr>\n",
       "    <tr>\n",
       "      <th>MSc Computational Statistics and Machine Learning</th>\n",
       "      <td>33</td>\n",
       "      <td>61</td>\n",
       "    </tr>\n",
       "    <tr>\n",
       "      <th>MSc Computer Graphics, Vision and Imaging</th>\n",
       "      <td>12</td>\n",
       "      <td>18</td>\n",
       "    </tr>\n",
       "    <tr>\n",
       "      <th>MSc Computer Science</th>\n",
       "      <td>43</td>\n",
       "      <td>89</td>\n",
       "    </tr>\n",
       "    <tr>\n",
       "      <th>MSc Disability, Design and Innovation</th>\n",
       "      <td>3</td>\n",
       "      <td>5</td>\n",
       "    </tr>\n",
       "    <tr>\n",
       "      <th>MSc Financial Risk Management</th>\n",
       "      <td>66</td>\n",
       "      <td>117</td>\n",
       "    </tr>\n",
       "    <tr>\n",
       "      <th>MSc Financial Systems Engineering</th>\n",
       "      <td>1</td>\n",
       "      <td>1</td>\n",
       "    </tr>\n",
       "    <tr>\n",
       "      <th>MSc Information Security</th>\n",
       "      <td>20</td>\n",
       "      <td>37</td>\n",
       "    </tr>\n",
       "    <tr>\n",
       "      <th>MSc Machine Learning</th>\n",
       "      <td>49</td>\n",
       "      <td>109</td>\n",
       "    </tr>\n",
       "    <tr>\n",
       "      <th>MSc Robotics and Computation</th>\n",
       "      <td>12</td>\n",
       "      <td>31</td>\n",
       "    </tr>\n",
       "    <tr>\n",
       "      <th>MSc Software Systems Engineering</th>\n",
       "      <td>14</td>\n",
       "      <td>30</td>\n",
       "    </tr>\n",
       "    <tr>\n",
       "      <th>MSc Web Science and Big Data Analytics</th>\n",
       "      <td>3</td>\n",
       "      <td>11</td>\n",
       "    </tr>\n",
       "    <tr>\n",
       "      <th rowspan=\"12\" valign=\"top\">2020</th>\n",
       "      <th>MSc Computational Finance</th>\n",
       "      <td>50</td>\n",
       "      <td>68</td>\n",
       "    </tr>\n",
       "    <tr>\n",
       "      <th>MSc Computational Statistics and Machine Learning</th>\n",
       "      <td>36</td>\n",
       "      <td>70</td>\n",
       "    </tr>\n",
       "    <tr>\n",
       "      <th>MSc Computer Graphics, Vision and Imaging</th>\n",
       "      <td>24</td>\n",
       "      <td>34</td>\n",
       "    </tr>\n",
       "    <tr>\n",
       "      <th>MSc Computer Science</th>\n",
       "      <td>91</td>\n",
       "      <td>162</td>\n",
       "    </tr>\n",
       "    <tr>\n",
       "      <th>MSc Disability, Design and Innovation</th>\n",
       "      <td>3</td>\n",
       "      <td>4</td>\n",
       "    </tr>\n",
       "    <tr>\n",
       "      <th>MSc Financial Risk Management</th>\n",
       "      <td>74</td>\n",
       "      <td>150</td>\n",
       "    </tr>\n",
       "    <tr>\n",
       "      <th>MSc Financial Systems Engineering</th>\n",
       "      <td>6</td>\n",
       "      <td>1</td>\n",
       "    </tr>\n",
       "    <tr>\n",
       "      <th>MSc Information Security</th>\n",
       "      <td>22</td>\n",
       "      <td>46</td>\n",
       "    </tr>\n",
       "    <tr>\n",
       "      <th>MSc Machine Learning</th>\n",
       "      <td>68</td>\n",
       "      <td>133</td>\n",
       "    </tr>\n",
       "    <tr>\n",
       "      <th>MSc Robotics and Computation</th>\n",
       "      <td>23</td>\n",
       "      <td>35</td>\n",
       "    </tr>\n",
       "    <tr>\n",
       "      <th>MSc Software Systems Engineering</th>\n",
       "      <td>23</td>\n",
       "      <td>24</td>\n",
       "    </tr>\n",
       "    <tr>\n",
       "      <th>MSc Web Science and Big Data Analytics</th>\n",
       "      <td>10</td>\n",
       "      <td>15</td>\n",
       "    </tr>\n",
       "  </tbody>\n",
       "</table>\n",
       "</div>"
      ],
      "text/plain": [
       "Gender                                                  Female  Male\n",
       "Year Course Name                                                    \n",
       "2018 MSc Computational Finance                              21    56\n",
       "     MSc Computational Statistics and Machine Learning      25    61\n",
       "     MSc Computer Graphics, Vision and Imaging              17    27\n",
       "     MSc Computer Science                                   50    99\n",
       "     MSc Disability, Design and Innovation                   1     4\n",
       "     MSc Financial Risk Management                          41   106\n",
       "     MSc Financial Systems Engineering                       0     2\n",
       "     MSc Information Security                               13    26\n",
       "     MSc Machine Learning                                   53   102\n",
       "     MSc Robotics and Computation                           14    38\n",
       "     MSc Software Systems Engineering                       14    24\n",
       "     MSc Web Science and Big Data Analytics                  5     8\n",
       "2019 MSc Computational Finance                              19    55\n",
       "     MSc Computational Statistics and Machine Learning      33    61\n",
       "     MSc Computer Graphics, Vision and Imaging              12    18\n",
       "     MSc Computer Science                                   43    89\n",
       "     MSc Disability, Design and Innovation                   3     5\n",
       "     MSc Financial Risk Management                          66   117\n",
       "     MSc Financial Systems Engineering                       1     1\n",
       "     MSc Information Security                               20    37\n",
       "     MSc Machine Learning                                   49   109\n",
       "     MSc Robotics and Computation                           12    31\n",
       "     MSc Software Systems Engineering                       14    30\n",
       "     MSc Web Science and Big Data Analytics                  3    11\n",
       "2020 MSc Computational Finance                              50    68\n",
       "     MSc Computational Statistics and Machine Learning      36    70\n",
       "     MSc Computer Graphics, Vision and Imaging              24    34\n",
       "     MSc Computer Science                                   91   162\n",
       "     MSc Disability, Design and Innovation                   3     4\n",
       "     MSc Financial Risk Management                          74   150\n",
       "     MSc Financial Systems Engineering                       6     1\n",
       "     MSc Information Security                               22    46\n",
       "     MSc Machine Learning                                   68   133\n",
       "     MSc Robotics and Computation                           23    35\n",
       "     MSc Software Systems Engineering                       23    24\n",
       "     MSc Web Science and Big Data Analytics                 10    15"
      ]
     },
     "execution_count": 270,
     "metadata": {},
     "output_type": "execute_result"
    }
   ],
   "source": [
    "offers_made_by_year_by_gender"
   ]
  },
  {
   "cell_type": "code",
   "execution_count": null,
   "id": "lonely-yugoslavia",
   "metadata": {},
   "outputs": [],
   "source": [
    "## 4. Visua"
   ]
  },
  {
   "cell_type": "code",
   "execution_count": 272,
   "id": "respected-blank",
   "metadata": {},
   "outputs": [
    {
     "data": {
      "text/plain": [
       "<AxesSubplot:xlabel='Year'>"
      ]
     },
     "execution_count": 272,
     "metadata": {},
     "output_type": "execute_result"
    },
    {
     "data": {
      "image/png": "[encoded data removed]",
      "text/plain": [
       "<Figure size 432x288 with 1 Axes>"
      ]
     },
     "metadata": {},
     "output_type": "display_data"
    }
   ],
   "source": [
    "cs_offers.plot(kind='bar')"
   ]
  },
  {
   "cell_type": "code",
   "execution_count": null,
   "id": "victorian-animation",
   "metadata": {},
   "outputs": [],
   "source": []
  },
  {
   "cell_type": "code",
   "execution_count": null,
   "id": "iraqi-fever",
   "metadata": {},
   "outputs": [],
   "source": []
  },
  {
   "cell_type": "code",
   "execution_count": null,
   "id": "variable-brighton",
   "metadata": {},
   "outputs": [],
   "source": []
  }
 ],
 "metadata": {
  "kernelspec": {
   "display_name": "Python 3",
   "language": "python",
   "name": "python3"
  },
  "language_info": {
   "codemirror_mode": {
    "name": "ipython",
    "version": 3
   },
   "file_extension": ".py",
   "mimetype": "text/x-python",
   "name": "python",
   "nbconvert_exporter": "python",
   "pygments_lexer": "ipython3",
   "version": "3.8.3"
  }
 },
 "nbformat": 4,
 "nbformat_minor": 5
}
