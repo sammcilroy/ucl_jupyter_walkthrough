{
 "cells": [
  {
   "cell_type": "code",
   "execution_count": 87,
   "metadata": {},
   "outputs": [],
   "source": [
    "import pyodbc\n",
    "import pandas as pd\n",
    "import numpy as np\n",
    "import pysynth\n",
    "import subprocess\n",
    "import random"
   ]
  },
  {
   "cell_type": "code",
   "execution_count": 88,
   "metadata": {},
   "outputs": [],
   "source": [
    "from credentials import *"
   ]
  },
  {
   "cell_type": "code",
   "execution_count": 89,
   "metadata": {},
   "outputs": [],
   "source": [
    "portico = pyodbc.connect(\"DSN=SIS;UID=\"+UCL_USERNAME+\";PWD=\"+UCL_PASSWORD)"
   ]
  },
  {
   "cell_type": "code",
   "execution_count": 90,
   "metadata": {},
   "outputs": [],
   "source": [
    "# real portico data\n",
    "sql = '''\n",
    "select cap_ayrc, cap_crsc, stu.stu_gend, stu.stu_codc, cap_idrc\n",
    "from srs_cap cap left outer join sismgr.ins_stu stu on cap.cap_stuc = stu.stu_code\n",
    "where cap_ayrc in ('2020', '2019', '2018') and cap_crsc like 'TMSCOM%' and cap_facc='ENG' \n",
    "'''\n",
    "real_data = pd.read_sql(sql, portico)\n",
    "real_data['STU_CODC'] = real_data['STU_CODC'].astype(str)"
   ]
  },
  {
   "cell_type": "code",
   "execution_count": 91,
   "metadata": {},
   "outputs": [
    {
     "data": {
      "text/plain": [
       "12751"
      ]
     },
     "execution_count": 91,
     "metadata": {},
     "output_type": "execute_result"
    }
   ],
   "source": [
    "len(real_data)"
   ]
  },
  {
   "cell_type": "code",
   "execution_count": 92,
   "metadata": {},
   "outputs": [
    {
     "data": {
      "text/plain": [
       "array(['CAP_AYRC', 'CAP_CRSC', 'STU_GEND', 'STU_CODC', 'CAP_IDRC'],\n",
       "      dtype=object)"
      ]
     },
     "execution_count": 92,
     "metadata": {},
     "output_type": "execute_result"
    }
   ],
   "source": [
    "columns = real_data.columns.to_numpy()\n",
    "columns"
   ]
  },
  {
   "cell_type": "code",
   "execution_count": 93,
   "metadata": {},
   "outputs": [
    {
     "data": {
      "text/html": [
       "<div>\n",
       "<style scoped>\n",
       "    .dataframe tbody tr th:only-of-type {\n",
       "        vertical-align: middle;\n",
       "    }\n",
       "\n",
       "    .dataframe tbody tr th {\n",
       "        vertical-align: top;\n",
       "    }\n",
       "\n",
       "    .dataframe thead th {\n",
       "        text-align: right;\n",
       "    }\n",
       "</style>\n",
       "<table border=\"1\" class=\"dataframe\">\n",
       "  <thead>\n",
       "    <tr style=\"text-align: right;\">\n",
       "      <th></th>\n",
       "      <th>CAP_AYRC</th>\n",
       "      <th>CAP_CRSC</th>\n",
       "      <th>STU_GEND</th>\n",
       "      <th>STU_CODC</th>\n",
       "      <th>CAP_IDRC</th>\n",
       "    </tr>\n",
       "  </thead>\n",
       "  <tbody>\n",
       "  </tbody>\n",
       "</table>\n",
       "</div>"
      ],
      "text/plain": [
       "Empty DataFrame\n",
       "Columns: [CAP_AYRC, CAP_CRSC, STU_GEND, STU_CODC, CAP_IDRC]\n",
       "Index: []"
      ]
     },
     "execution_count": 93,
     "metadata": {},
     "output_type": "execute_result"
    }
   ],
   "source": [
    "fake_data = pd.DataFrame(columns=columns)\n",
    "fake_data.head() "
   ]
  },
  {
   "cell_type": "code",
   "execution_count": 94,
   "metadata": {},
   "outputs": [
    {
     "data": {
      "text/html": [
       "<div>\n",
       "<style scoped>\n",
       "    .dataframe tbody tr th:only-of-type {\n",
       "        vertical-align: middle;\n",
       "    }\n",
       "\n",
       "    .dataframe tbody tr th {\n",
       "        vertical-align: top;\n",
       "    }\n",
       "\n",
       "    .dataframe thead th {\n",
       "        text-align: right;\n",
       "    }\n",
       "</style>\n",
       "<table border=\"1\" class=\"dataframe\">\n",
       "  <thead>\n",
       "    <tr style=\"text-align: right;\">\n",
       "      <th></th>\n",
       "      <th>CAP_AYRC</th>\n",
       "      <th>CAP_CRSC</th>\n",
       "      <th>STU_GEND</th>\n",
       "      <th>STU_CODC</th>\n",
       "      <th>CAP_IDRC</th>\n",
       "    </tr>\n",
       "  </thead>\n",
       "  <tbody>\n",
       "    <tr>\n",
       "      <th>0</th>\n",
       "      <td>2019</td>\n",
       "      <td>TMSCOMSSML01</td>\n",
       "      <td>M</td>\n",
       "      <td>5826</td>\n",
       "      <td>CFUF</td>\n",
       "    </tr>\n",
       "    <tr>\n",
       "      <th>1</th>\n",
       "      <td>2019</td>\n",
       "      <td>TMSCOMSSSE01</td>\n",
       "      <td>F</td>\n",
       "      <td>672</td>\n",
       "      <td>C</td>\n",
       "    </tr>\n",
       "    <tr>\n",
       "      <th>2</th>\n",
       "      <td>2020</td>\n",
       "      <td>TMSCOMSCGV01</td>\n",
       "      <td>M</td>\n",
       "      <td>764</td>\n",
       "      <td>R</td>\n",
       "    </tr>\n",
       "    <tr>\n",
       "      <th>3</th>\n",
       "      <td>2019</td>\n",
       "      <td>TMSCOMSSSE01</td>\n",
       "      <td>M</td>\n",
       "      <td>631</td>\n",
       "      <td>R</td>\n",
       "    </tr>\n",
       "    <tr>\n",
       "      <th>4</th>\n",
       "      <td>2019</td>\n",
       "      <td>TMSCOMSING01</td>\n",
       "      <td>M</td>\n",
       "      <td>771</td>\n",
       "      <td>R</td>\n",
       "    </tr>\n",
       "  </tbody>\n",
       "</table>\n",
       "</div>"
      ],
      "text/plain": [
       "  CAP_AYRC      CAP_CRSC STU_GEND STU_CODC CAP_IDRC\n",
       "0     2019  TMSCOMSSML01        M     5826     CFUF\n",
       "1     2019  TMSCOMSSSE01        F      672        C\n",
       "2     2020  TMSCOMSCGV01        M      764        R\n",
       "3     2019  TMSCOMSSSE01        M      631        R\n",
       "4     2019  TMSCOMSING01        M      771        R"
      ]
     },
     "execution_count": 94,
     "metadata": {},
     "output_type": "execute_result"
    }
   ],
   "source": [
    "# fake_data random samples from real data\n",
    "\n",
    "fake_data = real_data\n",
    "fake_data['CAP_AYRC'] = np.random.permutation(fake_data['CAP_AYRC'])\n",
    "fake_data['CAP_CRSC'] = np.random.permutation(fake_data['CAP_CRSC'])\n",
    "fake_data['STU_GEND'] = np.random.permutation(fake_data['STU_GEND'])\n",
    "fake_data['STU_CODC'] = np.random.permutation(fake_data['STU_CODC'])\n",
    "fake_data['CAP_IDRC'] = np.random.permutation(fake_data['CAP_IDRC'])\n",
    "\n",
    "fake_data.head()"
   ]
  },
  {
   "cell_type": "code",
   "execution_count": 95,
   "metadata": {},
   "outputs": [],
   "source": [
    "fake_data.to_csv('ucl_cs_pg_admissions_synthesized.csv', index=False)"
   ]
  },
  {
   "cell_type": "code",
   "execution_count": 97,
   "metadata": {},
   "outputs": [
    {
     "data": {
      "text/plain": [
       "12751"
      ]
     },
     "execution_count": 97,
     "metadata": {},
     "output_type": "execute_result"
    }
   ],
   "source": [
    "len(fake_data)"
   ]
  },
  {
   "cell_type": "code",
   "execution_count": 101,
   "metadata": {},
   "outputs": [
    {
     "data": {
      "text/html": [
       "<div>\n",
       "<style scoped>\n",
       "    .dataframe tbody tr th:only-of-type {\n",
       "        vertical-align: middle;\n",
       "    }\n",
       "\n",
       "    .dataframe tbody tr th {\n",
       "        vertical-align: top;\n",
       "    }\n",
       "\n",
       "    .dataframe thead th {\n",
       "        text-align: right;\n",
       "    }\n",
       "</style>\n",
       "<table border=\"1\" class=\"dataframe\">\n",
       "  <thead>\n",
       "    <tr style=\"text-align: right;\">\n",
       "      <th></th>\n",
       "      <th>COD_CODE</th>\n",
       "      <th>COD_NAME</th>\n",
       "    </tr>\n",
       "  </thead>\n",
       "  <tbody>\n",
       "    <tr>\n",
       "      <th>0</th>\n",
       "      <td>110</td>\n",
       "      <td>East Riding</td>\n",
       "    </tr>\n",
       "    <tr>\n",
       "      <th>1</th>\n",
       "      <td>111</td>\n",
       "      <td>North East Lincolnshire</td>\n",
       "    </tr>\n",
       "    <tr>\n",
       "      <th>2</th>\n",
       "      <td>112</td>\n",
       "      <td>North Lincolnshire</td>\n",
       "    </tr>\n",
       "    <tr>\n",
       "      <th>3</th>\n",
       "      <td>113</td>\n",
       "      <td>York</td>\n",
       "    </tr>\n",
       "    <tr>\n",
       "      <th>4</th>\n",
       "      <td>114</td>\n",
       "      <td>Bournemouth</td>\n",
       "    </tr>\n",
       "  </tbody>\n",
       "</table>\n",
       "</div>"
      ],
      "text/plain": [
       "  COD_CODE                 COD_NAME\n",
       "0      110              East Riding\n",
       "1      111  North East Lincolnshire\n",
       "2      112       North Lincolnshire\n",
       "3      113                     York\n",
       "4      114              Bournemouth"
      ]
     },
     "execution_count": 101,
     "metadata": {},
     "output_type": "execute_result"
    }
   ],
   "source": [
    "# helper files\n",
    "\n",
    "sql = \"select distinct * from srs_cod\"\n",
    "cod = pd.read_sql(sql, portico)\n",
    "cod = cod[['COD_CODE', 'COD_NAME']]\n",
    "cod.head()"
   ]
  },
  {
   "cell_type": "code",
   "execution_count": 102,
   "metadata": {},
   "outputs": [
    {
     "data": {
      "text/html": [
       "<div>\n",
       "<style scoped>\n",
       "    .dataframe tbody tr th:only-of-type {\n",
       "        vertical-align: middle;\n",
       "    }\n",
       "\n",
       "    .dataframe tbody tr th {\n",
       "        vertical-align: top;\n",
       "    }\n",
       "\n",
       "    .dataframe thead th {\n",
       "        text-align: right;\n",
       "    }\n",
       "</style>\n",
       "<table border=\"1\" class=\"dataframe\">\n",
       "  <thead>\n",
       "    <tr style=\"text-align: right;\">\n",
       "      <th></th>\n",
       "      <th>COD_CODE</th>\n",
       "      <th>COD_NAME</th>\n",
       "    </tr>\n",
       "  </thead>\n",
       "  <tbody>\n",
       "    <tr>\n",
       "      <th>313</th>\n",
       "      <td>5826</td>\n",
       "      <td>England</td>\n",
       "    </tr>\n",
       "  </tbody>\n",
       "</table>\n",
       "</div>"
      ],
      "text/plain": [
       "    COD_CODE COD_NAME\n",
       "313     5826  England"
      ]
     },
     "execution_count": 102,
     "metadata": {},
     "output_type": "execute_result"
    }
   ],
   "source": [
    "cod[cod['COD_CODE'] == '5826']"
   ]
  },
  {
   "cell_type": "code",
   "execution_count": 103,
   "metadata": {},
   "outputs": [],
   "source": [
    "cod.to_csv('ucl_country_of_domicile_codes.csv', index=False)"
   ]
  },
  {
   "cell_type": "code",
   "execution_count": 105,
   "metadata": {},
   "outputs": [
    {
     "data": {
      "text/html": [
       "<div>\n",
       "<style scoped>\n",
       "    .dataframe tbody tr th:only-of-type {\n",
       "        vertical-align: middle;\n",
       "    }\n",
       "\n",
       "    .dataframe tbody tr th {\n",
       "        vertical-align: top;\n",
       "    }\n",
       "\n",
       "    .dataframe thead th {\n",
       "        text-align: right;\n",
       "    }\n",
       "</style>\n",
       "<table border=\"1\" class=\"dataframe\">\n",
       "  <thead>\n",
       "    <tr style=\"text-align: right;\">\n",
       "      <th></th>\n",
       "      <th>CRS_CODE</th>\n",
       "      <th>CRS_NAME</th>\n",
       "    </tr>\n",
       "  </thead>\n",
       "  <tbody>\n",
       "    <tr>\n",
       "      <th>0</th>\n",
       "      <td>TAFEDISCLD01</td>\n",
       "      <td>Affil - Cat 2 Clinical Dentistry</td>\n",
       "    </tr>\n",
       "    <tr>\n",
       "      <th>1</th>\n",
       "      <td>TAFEDISORT01</td>\n",
       "      <td>Affil - Cat 1 Orthodontics</td>\n",
       "    </tr>\n",
       "    <tr>\n",
       "      <th>2</th>\n",
       "      <td>TAFEDISPDD01</td>\n",
       "      <td>Affil - Cat 1 Paediatric Dentistry</td>\n",
       "    </tr>\n",
       "    <tr>\n",
       "      <th>3</th>\n",
       "      <td>TAFEENSEEE01</td>\n",
       "      <td>Affil - Cat 1 Electronic &amp; Electrical Engineering</td>\n",
       "    </tr>\n",
       "    <tr>\n",
       "      <th>4</th>\n",
       "      <td>TAFEENSMMO01</td>\n",
       "      <td>Affil - Cat 1 Microwaves and Modern Optics</td>\n",
       "    </tr>\n",
       "  </tbody>\n",
       "</table>\n",
       "</div>"
      ],
      "text/plain": [
       "       CRS_CODE                                           CRS_NAME\n",
       "0  TAFEDISCLD01                   Affil - Cat 2 Clinical Dentistry\n",
       "1  TAFEDISORT01                         Affil - Cat 1 Orthodontics\n",
       "2  TAFEDISPDD01                 Affil - Cat 1 Paediatric Dentistry\n",
       "3  TAFEENSEEE01  Affil - Cat 1 Electronic & Electrical Engineering\n",
       "4  TAFEENSMMO01         Affil - Cat 1 Microwaves and Modern Optics"
      ]
     },
     "execution_count": 105,
     "metadata": {},
     "output_type": "execute_result"
    }
   ],
   "source": [
    "sql = \"select distinct * from srs_crs\"\n",
    "crs = pd.read_sql(sql, portico)\n",
    "crs = crs[['CRS_CODE', 'CRS_NAME']]\n",
    "crs.head()"
   ]
  },
  {
   "cell_type": "code",
   "execution_count": 106,
   "metadata": {},
   "outputs": [],
   "source": [
    "crs.to_csv('ucl_course_codes.csv', index=False)"
   ]
  },
  {
   "cell_type": "code",
   "execution_count": null,
   "metadata": {},
   "outputs": [],
   "source": []
  }
 ],
 "metadata": {
  "kernelspec": {
   "display_name": "Python 3",
   "language": "python",
   "name": "python3"
  },
  "language_info": {
   "codemirror_mode": {
    "name": "ipython",
    "version": 3
   },
   "file_extension": ".py",
   "mimetype": "text/x-python",
   "name": "python",
   "nbconvert_exporter": "python",
   "pygments_lexer": "ipython3",
   "version": "3.7.6"
  }
 },
 "nbformat": 4,
 "nbformat_minor": 4
}
